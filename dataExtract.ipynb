{
 "cells": [
  {
   "cell_type": "code",
   "execution_count": 29,
   "metadata": {},
   "outputs": [],
   "source": [
    "from spire.doc import *\n",
    "from spire.doc.common import *\n",
    "import json\n",
    "import re"
   ]
  },
  {
   "cell_type": "code",
   "execution_count": 30,
   "metadata": {},
   "outputs": [],
   "source": [
    "# Create a Document object\n",
    "document = Document()"
   ]
  },
  {
   "cell_type": "code",
   "execution_count": 31,
   "metadata": {},
   "outputs": [],
   "source": [
    "def extract_text():\n",
    "\n",
    "    # Load a Word document\n",
    "  document.LoadFromFile(\"CoursePlans/Syllabus_MCA272– Programming Using Java.docx\")\n",
    "\n",
    "  # Extract the text of the document\n",
    "  document_text = document.GetText()\n",
    "\n",
    "  #Substitutes '\\t' with 1 '\\n'\n",
    "  document_text = re.sub(r'\\t{1,}', '\\n', document_text)\n",
    "  #Trim the spaces after newline\n",
    "  document_text = re.sub(r'\\n\\s+', '\\n', document_text)\n",
    "  #Substitutes '\\r' with ''\n",
    "  document_text = document_text.replace('\\r', '')\n",
    "\n",
    "  with open(\"Output/DocumentText.txt\", \"w\", encoding=\"utf-8\") as file:\n",
    "    file.write(document_text)"
   ]
  },
  {
   "cell_type": "code",
   "execution_count": 32,
   "metadata": {},
   "outputs": [],
   "source": [
    "# JSON Structure:\n",
    "\n",
    "# [\n",
    "#   CourseName-Num: ,\n",
    "#   Total-Teaching-Hours: ,\n",
    "#   Max-Marks: ,\n",
    "#   Credits: ,\n",
    "#   Course-Outcomes: [\n",
    "#     CO1: ,\n",
    "#   CO2: ,\n",
    "#   CO3: ,\n",
    "#   ],\n",
    "#   Unit1: [\n",
    "#     Teaching-hours: ,\n",
    "#     Title: ,\n",
    "#     Contents: [],\n",
    "#     Lab-exercises: [],\n",
    "#         ],\n",
    "#   Unit2: [\n",
    "#     Teaching-hours: ,\n",
    "#     Title: ,\n",
    "#     Contents: [],\n",
    "#     Lab-exercises: [],\n",
    "#         ],\n",
    "#   Unit3: [\n",
    "#     Teaching-hours: ,\n",
    "#     Title: ,\n",
    "#     Contents: [],\n",
    "#     Lab-exercises: [],\n",
    "#         ],\n",
    "#   Unit4: [\n",
    "#     Teaching-hours: ,\n",
    "#     Title: ,\n",
    "#     Contents: [],\n",
    "#     Lab-exercises: [],\n",
    "#         ],\n",
    "#   Unit5: [\n",
    "#     Teaching-hours: ,\n",
    "#     Title: ,\n",
    "#     Contents: [],\n",
    "#     Lab-exercises: [],\n",
    "#         ],\n",
    "#   Text-books: [],\n",
    "#   Web-resources: [],\n",
    "# ]"
   ]
  },
  {
   "cell_type": "code",
   "execution_count": 33,
   "metadata": {},
   "outputs": [],
   "source": [
    "def storeJson(input_file, output_file):\n",
    "    # Read the content of the input file\n",
    "    with open(input_file, 'r') as file:\n",
    "        processed_file = file.read()\n",
    "\n",
    "    # Initialize storage for extracted data\n",
    "    extracted_data = {\n",
    "        \"CourseName-Num\": \"\",\n",
    "        \"Total-Teaching-Hours\": \"\",\n",
    "        \"Max-Marks\": \"\",\n",
    "        \"Credits\": \"\",\n",
    "        \"Course-Outcomes\": [],\n",
    "        \"Units\": [],\n",
    "        \"Text-books\": [],\n",
    "        \"Web-resources\": []\n",
    "    }\n",
    "\n",
    "    # Extract basic course details\n",
    "    extracted_data[\"CourseName-Num\"] = re.search(r'^MCA\\d{3}– [^\\n]+', processed_file, re.MULTILINE).group(0).strip()\n",
    "    extracted_data[\"Total-Teaching-Hours\"] = re.search(r'Total Teaching Hours for Semester: (\\d+)', processed_file).group(1)\n",
    "    extracted_data[\"Max-Marks\"] = re.search(r'Max Marks: (\\d+)', processed_file).group(1)\n",
    "    extracted_data[\"Credits\"] = re.search(r'Credits: (\\d+)', processed_file).group(1)\n",
    "\n",
    "    # Extract course outcomes\n",
    "    outcomes = re.findall(r'CO\\d+: (.+)', processed_file)\n",
    "    for idx, outcome in enumerate(outcomes, start=1):\n",
    "        extracted_data[\"Course-Outcomes\"].append({f\"CO{idx}\": outcome.strip()})\n",
    "\n",
    "    # Extract unit details\n",
    "    unit_pattern = r'Unit-(\\d+)\\nTeaching Hours: (\\d+)\\n([^\\n]+)\\n(.+?)(?=Unit-\\d+|Text Books and Reference Books)'\n",
    "    units = re.findall(unit_pattern, processed_file, re.DOTALL)\n",
    "    for unit in units:\n",
    "        unit_data = {\n",
    "            \"Teaching-hours\": unit[1],\n",
    "            \"Title\": unit[2].strip(),\n",
    "            \"Contents\": [content.strip() for content in re.split(r'(?<=\\.)\\s+', unit[3].strip()) if content],\n",
    "            \"Lab-exercises\": re.findall(r'Lab Exercises:\\n(.+)', unit[3], re.DOTALL)\n",
    "        }\n",
    "        extracted_data[\"Units\"].append(unit_data)\n",
    "\n",
    "    # Extract text-books\n",
    "    textbooks = re.findall(r'\\[\\d+\\] ([^\\n]+)', processed_file)\n",
    "    extracted_data[\"Text-books\"] = textbooks\n",
    "\n",
    "    # Extract web resources\n",
    "    web_resources = re.findall(r'https?://[^\\s]+', processed_file)\n",
    "    extracted_data[\"Web-resources\"] = web_resources\n",
    "\n",
    "    # Save extracted data to a JSON file\n",
    "    with open(output_file, 'w') as json_file:\n",
    "        json.dump(extracted_data, json_file, indent=4)"
   ]
  },
  {
   "cell_type": "code",
   "execution_count": 34,
   "metadata": {},
   "outputs": [],
   "source": [
    "input_file = \"Output/DocumentText.txt\"\n",
    "output_file = \"Output/CourseDetails.json\"\n",
    "\n",
    "# Write the extracted text into a text file\n",
    "extract_text()\n",
    "storeJson(input_file, output_file)\n"
   ]
  },
  {
   "cell_type": "code",
   "execution_count": 35,
   "metadata": {},
   "outputs": [],
   "source": [
    "document.Close()"
   ]
  },
  {
   "cell_type": "markdown",
   "metadata": {},
   "source": [
    "# Things needed (external)\n",
    "- Evaluation Pattern (CIA and ETE)\n",
    "- Trimester\n",
    "- Faculty name and contacts\n",
    "- Class policies and description\n",
    "- CIA and ETE component description (like Practical tests, Group project, mcqs, presentations, etc)\n",
    "- Duration of the course (Start and End Date)"
   ]
  }
 ],
 "metadata": {
  "kernelspec": {
   "display_name": "mysql",
   "language": "python",
   "name": "python3"
  },
  "language_info": {
   "codemirror_mode": {
    "name": "ipython",
    "version": 3
   },
   "file_extension": ".py",
   "mimetype": "text/x-python",
   "name": "python",
   "nbconvert_exporter": "python",
   "pygments_lexer": "ipython3",
   "version": "3.12.7"
  }
 },
 "nbformat": 4,
 "nbformat_minor": 2
}
